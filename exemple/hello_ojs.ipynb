{
  "cells": [
    {
      "cell_type": "raw",
      "metadata": {},
      "source": [
        "---\n",
        "title: \"Untitled\"\n",
        "format: html\n",
        "execute:\n",
        "  echo: false\n",
        "---"
      ],
      "id": "63a3ad40"
    },
    {
      "cell_type": "markdown",
      "metadata": {},
      "source": [
        "```{ojs}\n",
        "//| execute: FALSE\n",
        "data = FileAttachment(\"palmer-penguins.csv\").csv({ typed: true })\n",
        "```\n",
        "\n",
        "```{ojs}\n",
        "viewof bill_length_min = Inputs.range(\n",
        "  [32, 50], \n",
        "  {value: 35, step: 1, label: \"Bill length (min):\"}\n",
        ")\n",
        "viewof islands = Inputs.checkbox(\n",
        "  [\"Torgersen\", \"Biscoe\", \"Dream\"], \n",
        "  { value: [\"Torgersen\", \"Biscoe\"], \n",
        "    label: \"Islands:\"\n",
        "  }\n",
        ")\n",
        "```\n",
        "\n",
        "```{ojs}\n",
        "filtered = data.filter(function(penguin) {\n",
        "  return bill_length_min < penguin.bill_length_mm &&\n",
        "         islands.includes(penguin.island);\n",
        "})\n",
        "```\n",
        "\n",
        "```{ojs}\n",
        "Plot.rectY(filtered, \n",
        "  Plot.binX(\n",
        "    {y: \"count\"}, \n",
        "    {x: \"body_mass_g\", fill: \"species\", thresholds: 20}\n",
        "  ))\n",
        "  .plot({\n",
        "    facet: {\n",
        "      data: filtered,\n",
        "      x: \"sex\",\n",
        "      y: \"species\",\n",
        "      marginRight: 80\n",
        "    },\n",
        "    marks: [\n",
        "      Plot.frame(),\n",
        "    ]\n",
        "  }\n",
        ")\n",
        "```\n",
        "\n",
        "```{ojs}\n",
        "d3 = require(\"d3@7\")\n",
        "topojson = require(\"topojson\")\n",
        "```"
      ],
      "id": "3fb49149"
    },
    {
      "cell_type": "code",
      "metadata": {},
      "source": [
        "import pandas as pd\n",
        "penguins = pd.read_csv(\"palmer-penguins.csv\")\n",
        "ojs_define(data = penguins)"
      ],
      "id": "b8d1b1fb",
      "execution_count": null,
      "outputs": []
    },
    {
      "cell_type": "markdown",
      "metadata": {},
      "source": [
        "```{ojs}\n",
        "filtered = transpose(data).filter(function(penguin) {\n",
        "  return bill_length_min < penguin.bill_length_mm &&\n",
        "         islands.includes(penguin.island);\n",
        "})\n",
        "```"
      ],
      "id": "75946db2"
    }
  ],
  "metadata": {
    "kernelspec": {
      "name": "python3",
      "language": "python",
      "display_name": "Python 3 (ipykernel)"
    }
  },
  "nbformat": 4,
  "nbformat_minor": 5
}